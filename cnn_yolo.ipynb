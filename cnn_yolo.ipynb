{
 "cells": [
  {
   "cell_type": "markdown",
   "metadata": {},
   "source": [
    "reference : https://github.com/ILYAmLV/CarND-Vehicle-Detection-and-Tracking/blob/master/P5.ipynb\n",
    "\n",
    "https://github.com/ashispapu/CarND-Vehicle-Detection/blob/master/P5_Vehicle_Detection_and_Tracking.ipynb\n",
    "\n",
    "YOLO : https://github.com/subodh-malgonde/vehicle-detection/blob/master/Vehicle_Detection.ipynb\n",
    "\n",
    "https://github.com/xslittlegrass/CarND-Vehicle-Detection"
   ]
  },
  {
   "cell_type": "code",
   "execution_count": 14,
   "metadata": {
    "slideshow": {
     "slide_type": "-"
    }
   },
   "outputs": [
    {
     "name": "stdout",
     "output_type": "stream",
     "text": [
      "OK\n"
     ]
    }
   ],
   "source": [
    "from skimage.feature import hog\n",
    "from sklearn.svm import LinearSVC\n",
    "from sklearn.preprocessing import StandardScaler\n",
    "# for scikit-learn >= 0.18 use:\n",
    "from sklearn.model_selection import train_test_split\n",
    "# from sklearn.cross_validation import train_test_split\n",
    "from scipy.ndimage.measurements import label\n",
    "import matplotlib.image as mpimg\n",
    "import matplotlib.pyplot as plt\n",
    "from moviepy.editor import VideoFileClip\n",
    "from IPython.display import HTML\n",
    "import numpy as np\n",
    "import pickle\n",
    "import cv2\n",
    "import glob\n",
    "import time\n",
    "import glob\n",
    "%matplotlib inline\n",
    "print('OK')"
   ]
  },
  {
   "cell_type": "code",
   "execution_count": 15,
   "metadata": {},
   "outputs": [],
   "source": [
    "import keras\n",
    "from keras.models import Sequential\n",
    "from keras.layers.convolutional import Convolution2D, MaxPooling2D\n",
    "from keras.layers.advanced_activations import LeakyReLU\n",
    "from keras.layers.core import Flatten, Dense, Activation, Reshape"
   ]
  },
  {
   "cell_type": "code",
   "execution_count": 16,
   "metadata": {},
   "outputs": [],
   "source": [
    "#keras.backend.set_image_dim_ordering('th')\n",
    "def yolo2_model():\n",
    "    model = Sequential()\n",
    "    \n",
    "    # Layer 1\n",
    "    model.add(Convolution2D(16, 3, 3,input_shape=(412,412,3),border_mode='same',subsample=(1,1)))\n",
    "    model.add(LeakyReLU(alpha=0.1))\n",
    "    model.add(MaxPooling2D(pool_size=(2, 2)))\n",
    "    \n",
    "    # Layer 2\n",
    "    model.add(Convolution2D(32,3,3 ,border_mode='same'))\n",
    "    model.add(LeakyReLU(alpha=0.1))\n",
    "    model.add(MaxPooling2D(pool_size=(2, 2),border_mode='valid'))\n",
    "    \n",
    "    \n",
    "    # Layer 3\n",
    "    model.add(Convolution2D(64,3,3 ,border_mode='same',subsample=(1,1)))\n",
    "    model.add(LeakyReLU(alpha=0.1))\n",
    "    model.add(MaxPooling2D(pool_size=(2, 2),border_mode='valid'))\n",
    "    \n",
    "    # Layer 4\n",
    "    model.add(Convolution2D(128,3,3 ,border_mode='same',subsample=(1,1)))\n",
    "    model.add(LeakyReLU(alpha=0.1))\n",
    "    model.add(MaxPooling2D(pool_size=(2, 2),border_mode='valid'))\n",
    "    \n",
    "    # Layer 5\n",
    "    model.add(Convolution2D(256,3,3 ,border_mode='same',subsample=(1,1)))\n",
    "    model.add(LeakyReLU(alpha=0.1))\n",
    "    model.add(MaxPooling2D(pool_size=(2, 2),border_mode='valid'))\n",
    "    \n",
    "    # Layer 6\n",
    "    model.add(Convolution2D(512,3,3 ,border_mode='same',subsample=(1,1)))\n",
    "    model.add(LeakyReLU(alpha=0.1))\n",
    "    model.add(MaxPooling2D(pool_size=(2, 1),border_mode='valid'))\n",
    "    \n",
    "    # Layer 7\n",
    "    model.add(Convolution2D(1024,3,3 ,border_mode='same',subsample=(1,1)))\n",
    "    model.add(LeakyReLU(alpha=0.1))\n",
    "    \n",
    "    # Layer 8\n",
    "    model.add(Convolution2D(512,3,3 ,border_mode='same',subsample=(1,1)))\n",
    "    model.add(LeakyReLU(alpha=0.1))\n",
    "    \n",
    "    # Layer 9\n",
    "    model.add(Dense(425))\n",
    "    \n",
    "   \n",
    "    return model\n",
    "    "
   ]
  },
  {
   "cell_type": "code",
   "execution_count": 49,
   "metadata": {
    "collapsed": true
   },
   "outputs": [],
   "source": [
    "import sys\n",
    "#C:\\Users\\Mahfuz\\Documents\\Anaconda\\envs\\carnd-term1\\Lib\\site-packages\\tensorflow\\python\\util\n",
    "sys.path.append('C:\\\\Users\\\\Mahfuz\\\\Documents\\\\Anaconda\\\\envs\\\\carnd-term1\\\\Lib\\\\site-packages\\\\tensorflow\\\\python\\\\util')\n",
    "sys.path.append('C:\\\\Users\\\\Mahfuz\\\\Documents\\\\Anaconda\\\\envs\\\\carnd-term1\\\\Lib\\\\site-packages\\\\tensorflow\\\\models')"
   ]
  },
  {
   "cell_type": "code",
   "execution_count": 28,
   "metadata": {},
   "outputs": [
    {
     "ename": "ImportError",
     "evalue": "cannot import name 'load_weights'",
     "output_type": "error",
     "traceback": [
      "\u001b[1;31m---------------------------------------------------------------------------\u001b[0m",
      "\u001b[1;31mImportError\u001b[0m                               Traceback (most recent call last)",
      "\u001b[1;32m<ipython-input-28-f2dfb087d702>\u001b[0m in \u001b[0;36m<module>\u001b[1;34m()\u001b[0m\n\u001b[1;32m----> 1\u001b[1;33m \u001b[1;32mfrom\u001b[0m \u001b[0mutils\u001b[0m \u001b[1;32mimport\u001b[0m \u001b[0mload_weights\u001b[0m\u001b[1;33m,\u001b[0m \u001b[0mBox\u001b[0m\u001b[1;33m,\u001b[0m \u001b[0myolo_net_out_to_car_boxes\u001b[0m\u001b[1;33m,\u001b[0m \u001b[0mdraw_box\u001b[0m\u001b[1;33m\u001b[0m\u001b[0m\n\u001b[0m",
      "\u001b[1;31mImportError\u001b[0m: cannot import name 'load_weights'"
     ]
    }
   ],
   "source": [
    "from utils import load_weights, Box, yolo_net_out_to_car_boxes, draw_box"
   ]
  },
  {
   "cell_type": "code",
   "execution_count": 27,
   "metadata": {},
   "outputs": [
    {
     "ename": "AttributeError",
     "evalue": "module 'utils' has no attribute 'load_weights'",
     "output_type": "error",
     "traceback": [
      "\u001b[1;31m---------------------------------------------------------------------------\u001b[0m",
      "\u001b[1;31mAttributeError\u001b[0m                            Traceback (most recent call last)",
      "\u001b[1;32m<ipython-input-27-56f0095bb56a>\u001b[0m in \u001b[0;36m<module>\u001b[1;34m()\u001b[0m\n\u001b[0;32m      5\u001b[0m \u001b[1;33m\u001b[0m\u001b[0m\n\u001b[0;32m      6\u001b[0m \u001b[0mmodel\u001b[0m \u001b[1;33m=\u001b[0m \u001b[0myolo2_model\u001b[0m\u001b[1;33m(\u001b[0m\u001b[1;33m)\u001b[0m\u001b[1;33m\u001b[0m\u001b[0m\n\u001b[1;32m----> 7\u001b[1;33m \u001b[0mutils\u001b[0m\u001b[1;33m.\u001b[0m\u001b[0mload_weights\u001b[0m\u001b[1;33m(\u001b[0m\u001b[0mmodel\u001b[0m\u001b[1;33m,\u001b[0m\u001b[1;34m'yolo2-tiny.weights'\u001b[0m\u001b[1;33m)\u001b[0m\u001b[1;33m\u001b[0m\u001b[0m\n\u001b[0m\u001b[0;32m      8\u001b[0m \u001b[1;33m\u001b[0m\u001b[0m\n\u001b[0;32m      9\u001b[0m \u001b[1;31m#model = yolo2_model()\u001b[0m\u001b[1;33m\u001b[0m\u001b[1;33m\u001b[0m\u001b[0m\n",
      "\u001b[1;31mAttributeError\u001b[0m: module 'utils' has no attribute 'load_weights'"
     ]
    }
   ],
   "source": [
    "# Load weights\n",
    "#from utils import load_weights\n",
    "#from object_detection.protos import string_int_label_map_pb2\n",
    "import utils\n",
    "\n",
    "model = yolo2_model()\n",
    "utils.load_weights(model,'yolo2-tiny.weights')\n",
    "\n",
    "#model = yolo2_model()\n",
    "model.load_weights('yolov2-tiny.weights')"
   ]
  },
  {
   "cell_type": "code",
   "execution_count": 22,
   "metadata": {},
   "outputs": [
    {
     "name": "stdout",
     "output_type": "stream",
     "text": [
      "# of cars :  8792\n",
      "# of not-cars :  8968\n"
     ]
    },
    {
     "data": {
      "image/png": "[encoded data removed]",
      "text/plain": [
       "<matplotlib.figure.Figure at 0x1c76ee15748>"
      ]
     },
     "metadata": {},
     "output_type": "display_data"
    }
   ],
   "source": [
    "###Load the dataset\n",
    "\n",
    "cars = glob.glob(\"vehicles/*/*.*\")\n",
    "notcars = glob.glob(\"non-vehicles/*/*.*\")\n",
    "\n",
    "\n",
    "print ('# of cars : ' , len(cars))\n",
    "print ('# of not-cars : ' , len(notcars))\n",
    "\n",
    "car_ind = np.random.randint(0, len(cars))\n",
    "notcar_ind = np.random.randint(0, len(notcars))\n",
    "    \n",
    "# Read in car / not-car images\n",
    "car_image = mpimg.imread(cars[car_ind])\n",
    "notcar_image = mpimg.imread(notcars[notcar_ind])\n",
    "\n",
    "fig = plt.figure()\n",
    "plt.subplot(121)\n",
    "plt.imshow(car_image)\n",
    "plt.title('Car Image')\n",
    "plt.subplot(122)\n",
    "plt.imshow(notcar_image)\n",
    "plt.title('Not-car Image')\n",
    "plt.show()"
   ]
  },
  {
   "cell_type": "code",
   "execution_count": 23,
   "metadata": {
    "slideshow": {
     "slide_type": "slide"
    }
   },
   "outputs": [
    {
     "name": "stdout",
     "output_type": "stream",
     "text": [
      "OK\n"
     ]
    }
   ],
   "source": [
    "# Define a function to return some characteristics of the dataset \n",
    "def data_look(car_list, notcar_list):\n",
    "    data_dict = {}\n",
    "    # Define a key in data_dict \"n_cars\" and store the number of car images\n",
    "    data_dict[\"n_cars\"] = len(car_list)\n",
    "    # Define a key \"n_notcars\" and store the number of notcar images\n",
    "    data_dict[\"n_notcars\"] = len(notcar_list)\n",
    "    # Read in a test image, either car or notcar\n",
    "    img = mpimg.imread(car_list[0])\n",
    "    # Define a key \"image_shape\" and store the test image shape 3-tuple\n",
    "    data_dict[\"image_shape\"] = img.shape\n",
    "    # Define a key \"data_type\" and store the data type of the test image.\n",
    "    data_dict[\"data_type\"] = img.dtype\n",
    "    # Return data_dict\n",
    "    return data_dict\n",
    "print ('OK')"
   ]
  },
  {
   "cell_type": "code",
   "execution_count": 24,
   "metadata": {},
   "outputs": [
    {
     "name": "stdout",
     "output_type": "stream",
     "text": [
      "OK\n"
     ]
    }
   ],
   "source": [
    "pix_per_cell = 8\n",
    "cell_per_block = 2\n",
    "orient = 9\n",
    "img = car_image\n",
    "def get_hog_features(img, \n",
    "                     orientation=9, \n",
    "                     pixels_per_cell=(8,8), \n",
    "                     cells_per_block=(2,2), \n",
    "                     visualization=False, \n",
    "                     feature_vector=True):\n",
    "    if visualization == True:\n",
    "        features, hog_image = hog(img, orientations=orientation, \n",
    "                                  pixels_per_cell=pixels_per_cell,\n",
    "                                  cells_per_block=cells_per_block, \n",
    "                                  transform_sqrt=False,\n",
    "                                  visualise=True, feature_vector=False)\n",
    "        return features, hog_image\n",
    "    else:\n",
    "        features = hog(img, orientations=orientation, \n",
    "                       pixels_per_cell=pixels_per_cell,\n",
    "                       cells_per_block=cells_per_block, \n",
    "                       transform_sqrt=False,\n",
    "                       visualise=False, feature_vector=feature_vector) \n",
    "        return features\n",
    "print ('OK')"
   ]
  },
  {
   "cell_type": "code",
   "execution_count": 87,
   "metadata": {},
   "outputs": [
    {
     "data": {
      "image/png": "[encoded data removed]",
      "text/plain": [
       "<matplotlib.figure.Figure at 0x1d6a6954f60>"
      ]
     },
     "metadata": {},
     "output_type": "display_data"
    }
   ],
   "source": [
    "img = car_image\n",
    "hog_features, hog_image = get_hog_image_features(img)\n",
    "fig = plt.figure()\n",
    "plt.subplot(121)\n",
    "plt.imshow(car_image, cmap='gray')\n",
    "plt.title('Car Image')\n",
    "plt.subplot(122)\n",
    "plt.imshow(hog_image, cmap='gray')\n",
    "plt.title('HOG Image')\n",
    "plt.show()\n",
    "\n",
    "#print (img)"
   ]
  },
  {
   "cell_type": "code",
   "execution_count": 88,
   "metadata": {},
   "outputs": [
    {
     "data": {
      "text/plain": [
       "<matplotlib.image.AxesImage at 0x1d6a69274a8>"
      ]
     },
     "execution_count": 88,
     "metadata": {},
     "output_type": "execute_result"
    },
    {
     "data": {
      "image/png": "[encoded data removed]",
      "text/plain": [
       "<matplotlib.figure.Figure at 0x1d6a50df9b0>"
      ]
     },
     "metadata": {},
     "output_type": "display_data"
    }
   ],
   "source": [
    "resized_image = cv2.resize(img, (32, 32)) \n",
    "plt.imshow(resized_image,cmap='gray')"
   ]
  },
  {
   "cell_type": "code",
   "execution_count": 89,
   "metadata": {},
   "outputs": [
    {
     "name": "stdout",
     "output_type": "stream",
     "text": [
      "OK\n"
     ]
    }
   ],
   "source": [
    "# Define a function to compute color histogram features\n",
    "def get_color_histogram(img, nbins=32, bins_range=(0, 256)):\n",
    "    \n",
    "    bins_range=(0, 256)\n",
    "    # Compute the histogram of the color channels separately\n",
    "    red_hist = np.histogram(img[:,:,0], bins=nbins, range=bins_range)\n",
    "    green_hist = np.histogram(img[:,:,1], bins=nbins, range=bins_range)\n",
    "    blue_hist = np.histogram(img[:,:,2], bins=nbins, range=bins_range)\n",
    "    \n",
    "    # Generating bin centers\n",
    "    bin_edges = red_hist[1] #all three bins are the same size\n",
    "    bin_centers = (bin_edges[1:] + bin_edges[0:len(bin_edges) - 1])/2\n",
    "    \n",
    "    hist_features = np.concatenate((red_hist[0],\n",
    "                                    green_hist[0],\n",
    "                                    blue_hist[0]))\n",
    "    \n",
    "    return red_hist, green_hist, blue_hist, bin_centers, hist_features\n",
    "    \n",
    "print ('OK')"
   ]
  },
  {
   "cell_type": "code",
   "execution_count": 90,
   "metadata": {},
   "outputs": [
    {
     "data": {
      "image/png": "[encoded data removed]",
      "text/plain": [
       "<matplotlib.figure.Figure at 0x1d6a66d3940>"
      ]
     },
     "metadata": {},
     "output_type": "display_data"
    }
   ],
   "source": [
    "channel1_hist, channel2_hist, channel3_hist, bin_centers = color_hist(resized_image, vis=True)\n",
    "# Plot the examples\n",
    "fig = plt.figure(figsize=(12,3));\n",
    "\n",
    "plt.subplot(141)\n",
    "plt.imshow(resized_image)\n",
    "plt.title('Original Image', fontsize=15)\n",
    "plt.subplot(142)\n",
    "plt.bar(bin_centers, channel1_hist[0])\n",
    "plt.xlim(0, 256)\n",
    "plt.title('R Histogram', fontsize=15);\n",
    "plt.subplot(143)\n",
    "plt.bar(bin_centers, channel2_hist[0])\n",
    "plt.xlim(0, 256)\n",
    "plt.title('G Histogram', fontsize=15);\n",
    "plt.subplot(144)\n",
    "plt.bar(bin_centers, channel3_hist[0])\n",
    "plt.xlim(0, 256)\n",
    "plt.title('B Histogram', fontsize=15);"
   ]
  },
  {
   "cell_type": "code",
   "execution_count": 91,
   "metadata": {
    "collapsed": true
   },
   "outputs": [],
   "source": [
    "def get_bin_spatial(img, color_space='RGB', size=(32, 32)):\n",
    "    # Convert image to new color space (if specified)\n",
    "    if color_space != 'RGB':\n",
    "        if color_space == 'HSV':\n",
    "            feature_image = cv2.cvtColor(img, cv2.COLOR_RGB2HSV)\n",
    "        elif color_space == 'LUV':\n",
    "            feature_image = cv2.cvtColor(img, cv2.COLOR_RGB2LUV)\n",
    "        elif color_space == 'HLS':\n",
    "            feature_image = cv2.cvtColor(img, cv2.COLOR_RGB2HLS)\n",
    "        elif color_space == 'YUV':\n",
    "            feature_image = cv2.cvtColor(img, cv2.COLOR_RGB2YUV)\n",
    "        elif color_space == 'YCrCb':\n",
    "            feature_image = cv2.cvtColor(img, cv2.COLOR_RGB2YCrCb)\n",
    "    else: feature_image = np.copy(img)             \n",
    "    # Use cv2.resize().ravel() to create the feature vector\n",
    "    features = cv2.resize(feature_image, size).ravel() \n",
    "    # Return the feature vector\n",
    "    return features\n",
    "    "
   ]
  },
  {
   "cell_type": "code",
   "execution_count": 94,
   "metadata": {
    "collapsed": true
   },
   "outputs": [],
   "source": [
    "from sklearn.preprocessing import StandardScaler\n",
    "from tqdm import tqdm\n",
    "hist_bins = 32\n",
    "def extract_features(images, color_space='RGB', \n",
    "                     spatial_size=(32,32), \n",
    "                     hist_bins=32, hist_range=(0,256),\n",
    "                     orientations=9, pixels_per_cell=(8,8),\n",
    "                     cells_per_block=(2,2), hog_channel=0,\n",
    "                     spatial_feat=True, hist_feat=True, hog_feat=True):\n",
    "    features = []\n",
    "    for file in tqdm(images):\n",
    "        file_features = []\n",
    "        img = mpimg.imread(file)\n",
    "        # apply color conversion if other than 'RGB'\n",
    "        if color_space != 'RGB':\n",
    "            if color_space == 'HSV':\n",
    "                feature_image = cv2.cvtColor(img, cv2.COLOR_RGB2HSV)\n",
    "            elif color_space == 'LUV':\n",
    "                feature_image = cv2.cvtColor(img, cv2.COLOR_RGB2LUV)\n",
    "            elif color_space == 'HLS':\n",
    "                feature_image = cv2.cvtColor(img, cv2.COLOR_RGB2HLS)\n",
    "            elif color_space == 'YUV':\n",
    "                feature_image = cv2.cvtColor(img, cv2.COLOR_RGB2YUV)\n",
    "        else: feature_image = np.copy(img)      \n",
    "        \n",
    "        if spatial_feat == True:\n",
    "            spatial_features = get_bin_spatial(feature_image, size=spatial_size)\n",
    "            file_features.append(spatial_features)\n",
    "        if hist_feat == True:\n",
    "            red_hist, green_hist, blue_hist, bin_centers, hist_features = get_color_histogram(feature_image)\n",
    "            file_features.append(hist_features)\n",
    "        if hog_feat == True:\n",
    "            if hog_channel == 'ALL':\n",
    "                hog_features = []\n",
    "                for channel in range(feature_image.shape[2]):\n",
    "                    hog_features.append(get_hog_features(feature_image[:,:,channel], \n",
    "                                                         orientations, pixels_per_cell, \n",
    "                                                         cells_per_block, visualization=False,\n",
    "                                                         feature_vector=True))\n",
    "                hog_features = np.ravel(hog_features)        \n",
    "            else:\n",
    "                hog_features = get_hog_features(feature_image[:,:,hog_channel], \n",
    "                                                orientations, pixels_per_cell,\n",
    "                                                cells_per_block, visualization=False,\n",
    "                                                feature_vector=True)\n",
    "            file_features.append(hog_features)\n",
    "        features.append(np.concatenate(file_features))      \n",
    "    return features"
   ]
  },
  {
   "cell_type": "code",
   "execution_count": null,
   "metadata": {},
   "outputs": [
    {
     "name": "stderr",
     "output_type": "stream",
     "text": [
      " 65%|██████▌   | 5725/8792 [00:49<00:32, 95.67it/s] "
     ]
    }
   ],
   "source": [
    "### TODO: Tweak these parameters and see how the results change.\n",
    "color_space = 'YCrCb' # Can be RGB, HSV, LUV, HLS, YUV, YCrCb\n",
    "orient = 10  # HOG orientations\n",
    "pix_per_cell = 8 # HOG pixels per cell\n",
    "cell_per_block = 2 # HOG cells per block\n",
    "hog_channel = 'ALL' # Can be 0, 1, 2, or \"ALL\"\n",
    "spatial_size = (32, 32) # Spatial binning dimensions\n",
    "hist_bins = 32   # Number of histogram bins\n",
    "spatial_feat = True # Spatial features on or off\n",
    "hist_feat = True # Histogram features on or off\n",
    "hog_feat = True # HOG features on or off\n",
    "\n",
    "veh_features = extract_features(cars, spatial_feat=True, hist_feat=True)\n",
    "not_veh_features = extract_features(notcars, spatial_feat=True, hist_feat=True)\n",
    "\n",
    "if len(veh_features) > 0:\n",
    "    X = np.vstack((veh_features, not_veh_features)).astype(np.float64)\n",
    "    X_scaler = StandardScaler().fit(X)\n",
    "    scaled_X = X_scaler.transform(X)\n",
    "    \n",
    "    f = plt.figure(figsize=(20, 5))\n",
    "    matplotlib.rc('xtick', labelsize=30) \n",
    "    matplotlib.rc('ytick', labelsize=30)\n",
    "\n",
    "    plt.subplot(1, 3, 1)\n",
    "    plt.imshow(mpimg.imread(veh[car_id]))\n",
    "    plt.title('Original Image:\\n', fontsize=30)\n",
    "    plt.subplot(1, 3, 2)\n",
    "    plt.plot(X[car_id])\n",
    "    plt.title('Raw Features:\\n', fontsize=30)\n",
    "    plt.subplot(1, 3, 3)\n",
    "    plt.plot(scaled_X[car_id])\n",
    "    plt.title('Normalized Features:\\n', fontsize=30)\n",
    "    plt.savefig('output_images/color_classification.png')\n",
    "\n",
    "else:\n",
    "    print('Returned empty feature vectors.')"
   ]
  },
  {
   "cell_type": "code",
   "execution_count": null,
   "metadata": {
    "collapsed": true
   },
   "outputs": [],
   "source": [
    "X = np.vstack((veh_features, not_veh_features)).astype(np.float64)\n",
    "X_scaler = StandardScaler().fit(X)\n",
    "scaled_X = X_scaler.transform(X)\n",
    "\n",
    "y = np.hstack((np.ones(len(veh_features)), np.zeros(len(not_veh_features))))\n",
    "\n",
    "print (scaled_X.shape)\n",
    "print (y.shape)"
   ]
  },
  {
   "cell_type": "code",
   "execution_count": null,
   "metadata": {
    "collapsed": true
   },
   "outputs": [],
   "source": [
    "# Split up data into randomized training and test sets\n",
    "rand_state = np.random.randint(0, 100)\n",
    "X_train, X_test, y_train, y_test = train_test_split(scaled_X, y,\n",
    "                                                    test_size=0.2,\n",
    "                                                    random_state=rand_state)\n",
    "# Use a linear SVC\n",
    "svc = LinearSVC()\n",
    "# Check the training time for the SVC\n",
    "t=time.time()\n",
    "svc.fit(X_train, y_train)\n",
    "t2 = time.time()\n",
    "print(round(t2-t, 2), 'seconds to train SVC.')\n",
    "print('Using:', orient, 'orientations', pix_per_cell,\n",
    "    'pixels per cell and', cell_per_block, 'cells per block')\n",
    "print('Feature vector length:', len(X_train[0]))"
   ]
  },
  {
   "cell_type": "code",
   "execution_count": null,
   "metadata": {
    "collapsed": true
   },
   "outputs": [],
   "source": []
  }
 ],
 "metadata": {
  "kernelspec": {
   "display_name": "Python 3",
   "language": "python",
   "name": "python3"
  },
  "language_info": {
   "codemirror_mode": {
    "name": "ipython",
    "version": 3
   },
   "file_extension": ".py",
   "mimetype": "text/x-python",
   "name": "python",
   "nbconvert_exporter": "python",
   "pygments_lexer": "ipython3",
   "version": "3.5.2"
  },
  "widgets": {
   "state": {},
   "version": "1.1.2"
  }
 },
 "nbformat": 4,
 "nbformat_minor": 2
}
